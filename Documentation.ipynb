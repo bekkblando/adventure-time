{
 "cells": [
  {
   "cell_type": "code",
   "execution_count": 2,
   "metadata": {
    "collapsed": true
   },
   "outputs": [],
   "source": [
    "import requests"
   ]
  },
  {
   "cell_type": "code",
   "execution_count": 1,
   "metadata": {
    "collapsed": false
   },
   "outputs": [
    {
     "data": {
      "text/plain": [
       "'^respondents/(?P<num>\\\\d+)/$\\n^respondent/(?P<pk>\\\\d+)/$\\n^activity/(?P<pk>\\\\d+)/$\\n^activities/(?P<pk>\\\\d+)/$'"
      ]
     },
     "execution_count": 1,
     "metadata": {},
     "output_type": "execute_result"
    }
   ],
   "source": [
    "\"\"\"^respondents/(?P<num>\\d+)/$\n",
    "^respondent/(?P<pk>\\d+)/$\n",
    "^activity/(?P<pk>\\d+)/$\n",
    "^activities/(?P<pk>\\d+)/$\n",
    "https://autus-project.herokuapp.com\"\"\""
   ]
  },
  {
   "cell_type": "code",
   "execution_count": null,
   "metadata": {
    "collapsed": true
   },
   "outputs": [],
   "source": [
    "requests.get(https://autus-project.herokuapp.com/respondents/1/)"
   ]
  }
 ],
 "metadata": {
  "kernelspec": {
   "display_name": "Python 3",
   "language": "python",
   "name": "python3"
  },
  "language_info": {
   "codemirror_mode": {
    "name": "ipython",
    "version": 3
   },
   "file_extension": ".py",
   "mimetype": "text/x-python",
   "name": "python",
   "nbconvert_exporter": "python",
   "pygments_lexer": "ipython3",
   "version": "3.4.3"
  }
 },
 "nbformat": 4,
 "nbformat_minor": 0
}
