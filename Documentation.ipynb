{
 "cells": [
  {
   "cell_type": "code",
   "execution_count": 2,
   "metadata": {
    "collapsed": true
   },
   "outputs": [],
   "source": [
    "import requests"
   ]
  },
  {
   "cell_type": "code",
   "execution_count": 1,
   "metadata": {
    "collapsed": false
   },
   "outputs": [
    {
     "data": {
      "text/plain": [
       "'^respondents/(?P<num>\\\\d+)/$\\n^respondent/(?P<pk>\\\\d+)/$\\n^activity/(?P<pk>\\\\d+)/$\\n^activities/(?P<pk>\\\\d+)/$'"
      ]
     },
     "execution_count": 1,
     "metadata": {},
     "output_type": "execute_result"
    }
   ],
   "source": [
    "\"\"\"\n",
    "^respondents/(?P<num>\\d+)/$\n",
    "^respondent/(?P<pk>\\d+)/$\n",
    "^activity/(?P<pk>\\d+)/$\n",
    "^activities/(?P<pk>\\d+)/$\n",
    "https://autus-project.herokuapp.com\"\"\""
   ]
  },
  {
   "cell_type": "code",
   "execution_count": 8,
   "metadata": {
    "collapsed": false
   },
   "outputs": [],
   "source": [
    "single_respondent = requests.get('https://autus-project.herokuapp.com/respondents/1/')"
   ]
  },
  {
   "cell_type": "code",
   "execution_count": 9,
   "metadata": {
    "collapsed": false
   },
   "outputs": [
    {
     "data": {
      "text/plain": [
       "{'count': 1,\n",
       " 'next': None,\n",
       " 'previous': None,\n",
       " 'results': [{'activities': {'010101': 1145,\n",
       "    '010201': 60,\n",
       "    '030101': 30,\n",
       "    '110101': 30,\n",
       "    '120303': 30,\n",
       "    '130116': 90,\n",
       "    '181101': 10,\n",
       "    '181301': 45},\n",
       "   'age': 20,\n",
       "   'case_id': 20140101140007,\n",
       "   'hours_worked_per_week': -1,\n",
       "   'sex': 2,\n",
       "   'weight': 4891315.82676}]}"
      ]
     },
     "execution_count": 9,
     "metadata": {},
     "output_type": "execute_result"
    }
   ],
   "source": [
    "single_respondent.json()"
   ]
  },
  {
   "cell_type": "code",
   "execution_count": 10,
   "metadata": {
    "collapsed": true
   },
   "outputs": [],
   "source": [
    "single_respondent = requests.get('https://autus-project.herokuapp.com/respondent/1/')"
   ]
  },
  {
   "cell_type": "code",
   "execution_count": 11,
   "metadata": {
    "collapsed": false
   },
   "outputs": [
    {
     "data": {
      "text/plain": [
       "{'activities': {'010101': 1145,\n",
       "  '010201': 60,\n",
       "  '030101': 30,\n",
       "  '110101': 30,\n",
       "  '120303': 30,\n",
       "  '130116': 90,\n",
       "  '181101': 10,\n",
       "  '181301': 45},\n",
       " 'age': 20,\n",
       " 'case_id': 20140101140007,\n",
       " 'hours_worked_per_week': -1,\n",
       " 'sex': 2,\n",
       " 'weight': 4891315.82676}"
      ]
     },
     "execution_count": 11,
     "metadata": {},
     "output_type": "execute_result"
    }
   ],
   "source": [
    "single_respondent.json()"
   ]
  },
  {
   "cell_type": "code",
   "execution_count": 75,
   "metadata": {
    "collapsed": true
   },
   "outputs": [],
   "source": [
    "payload = {'age': 20}"
   ]
  },
  {
   "cell_type": "code",
   "execution_count": 76,
   "metadata": {
    "collapsed": true
   },
   "outputs": [],
   "source": [
    "filtered_respondent = requests.get('https://autus-project.herokuapp.com/respondent/1/', params=payload)"
   ]
  },
  {
   "cell_type": "code",
   "execution_count": 77,
   "metadata": {
    "collapsed": false
   },
   "outputs": [
    {
     "data": {
      "text/plain": [
       "{'activities': {'010101': 1145,\n",
       "  '010201': 60,\n",
       "  '030101': 30,\n",
       "  '110101': 30,\n",
       "  '120303': 30,\n",
       "  '130116': 90,\n",
       "  '181101': 10,\n",
       "  '181301': 45},\n",
       " 'age': 20,\n",
       " 'case_id': 20140101140007,\n",
       " 'hours_worked_per_week': -1,\n",
       " 'sex': 2,\n",
       " 'weight': 4891315.82676}"
      ]
     },
     "execution_count": 77,
     "metadata": {},
     "output_type": "execute_result"
    }
   ],
   "source": [
    "filtered_respondent.json()"
   ]
  },
  {
   "cell_type": "code",
   "execution_count": 49,
   "metadata": {
    "collapsed": true
   },
   "outputs": [],
   "source": [
    "all_actcode = requests.get('https://autus-project.herokuapp.com/activity/01/')"
   ]
  },
  {
   "cell_type": "code",
   "execution_count": 50,
   "metadata": {
    "collapsed": false
   },
   "outputs": [
    {
     "data": {
      "text/plain": [
       "{'average_minutes': 64.46545510313626,\n",
       " 'code': '01',\n",
       " 'codes': ['01'],\n",
       " 'total_number_of_respondents': 104328}"
      ]
     },
     "execution_count": 50,
     "metadata": {},
     "output_type": "execute_result"
    }
   ],
   "source": [
    "all_actcode.json()"
   ]
  },
  {
   "cell_type": "code",
   "execution_count": 51,
   "metadata": {
    "collapsed": true
   },
   "outputs": [],
   "source": [
    "second_actcode = requests.get('https://autus-project.herokuapp.com/activity/0101/')"
   ]
  },
  {
   "cell_type": "code",
   "execution_count": 52,
   "metadata": {
    "collapsed": false
   },
   "outputs": [
    {
     "data": {
      "text/plain": [
       "{'average_minutes': 266.76000690131127,\n",
       " 'code': '0101',\n",
       " 'codes': ['01', '01'],\n",
       " 'total_number_of_respondents': 23184}"
      ]
     },
     "execution_count": 52,
     "metadata": {},
     "output_type": "execute_result"
    }
   ],
   "source": [
    "second_actcode.json()"
   ]
  },
  {
   "cell_type": "code",
   "execution_count": 53,
   "metadata": {
    "collapsed": true
   },
   "outputs": [],
   "source": [
    "spesific_actcode = requests.get('https://autus-project.herokuapp.com/activity/010101/')"
   ]
  },
  {
   "cell_type": "code",
   "execution_count": 54,
   "metadata": {
    "collapsed": false
   },
   "outputs": [
    {
     "data": {
      "text/plain": [
       "{'average_minutes': 529.3733609385783,\n",
       " 'code': '010101',\n",
       " 'codes': ['01', '01', '01'],\n",
       " 'total_number_of_respondents': 11592}"
      ]
     },
     "execution_count": 54,
     "metadata": {},
     "output_type": "execute_result"
    }
   ],
   "source": [
    "spesific_actcode.json()"
   ]
  },
  {
   "cell_type": "code",
   "execution_count": 71,
   "metadata": {
    "collapsed": true
   },
   "outputs": [],
   "source": [
    "payload = {'age':20}"
   ]
  },
  {
   "cell_type": "code",
   "execution_count": 72,
   "metadata": {
    "collapsed": true
   },
   "outputs": [],
   "source": [
    "activity = requests.get('https://autus-project.herokuapp.com/activities/01/', params=payload)"
   ]
  },
  {
   "cell_type": "code",
   "execution_count": 73,
   "metadata": {
    "collapsed": false
   },
   "outputs": [
    {
     "data": {
      "text/plain": [
       "{'activities': {'average_minutes': 67.93162393162393,\n",
       "  'code': '01',\n",
       "  'codes': ['01'],\n",
       "  'total_number_of_respondents': 91},\n",
       " 'filt': {'age': '20'}}"
      ]
     },
     "execution_count": 73,
     "metadata": {},
     "output_type": "execute_result"
    }
   ],
   "source": [
    "activity.json()"
   ]
  },
  {
   "cell_type": "code",
   "execution_count": null,
   "metadata": {
    "collapsed": true
   },
   "outputs": [],
   "source": []
  }
 ],
 "metadata": {
  "kernelspec": {
   "display_name": "Python 3",
   "language": "python",
   "name": "python3"
  },
  "language_info": {
   "codemirror_mode": {
    "name": "ipython",
    "version": 3
   },
   "file_extension": ".py",
   "mimetype": "text/x-python",
   "name": "python",
   "nbconvert_exporter": "python",
   "pygments_lexer": "ipython3",
   "version": "3.4.3"
  }
 },
 "nbformat": 4,
 "nbformat_minor": 0
}
